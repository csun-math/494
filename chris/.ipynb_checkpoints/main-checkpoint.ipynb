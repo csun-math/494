{
 "metadata": {
  "name": "",
  "signature": "sha256:60f0e43fc960e80417381453fc091e42e858159809a6e221865de5da57370e82"
 },
 "nbformat": 3,
 "nbformat_minor": 0,
 "worksheets": [
  {
   "cells": [
    {
     "cell_type": "code",
     "collapsed": false,
     "input": [
      "import sys\n",
      "\n",
      "%matplotlib inline\n",
      "from __future__ import division\n",
      "import numpy as np\n",
      "import pandas as pd\n",
      "import matplotlib.pyplot as plt\n",
      "import re\n",
      "import sklearn\n",
      "\n",
      "from sklearn import metrics\n",
      "from sklearn.cross_validation import train_test_split, cross_val_score\n",
      "from sklearn import metrics\n",
      "from sklearn.metrics import roc_curve, auc\n",
      "from sklearn.linear_model import LogisticRegression\n",
      "from sklearn.decomposition import PCA\n",
      "from sklearn.cluster import KMeans\n",
      "from scipy.spatial.distance import cdist\n",
      "\n",
      "def printContingencyTable(y_test, y_pred):\n",
      "    confusion_matrix = metrics.confusion_matrix(y_test, y_pred)\n",
      "    plt.matshow(confusion_matrix)\n",
      "    plt.title('Confusion matrix')\n",
      "    #plt.colorbar()\n",
      "    plt.ylabel('Graduated')\n",
      "    plt.xlabel('Predicted')\n",
      "    plt.show()\n",
      "    print(confusion_matrix)\n",
      "\n",
      "\n",
      "def plotROC(y_test,y_pred):\n",
      "    #y_pred can consist of Boolean labels or probabilities, w/ the obvious implications for curve character\n",
      "    false_positive_rate, true_positive_rate, thresholds = roc_curve(y_test,y_pred)\n",
      "    roc_auc = auc(false_positive_rate, true_positive_rate)\n",
      "    plt.title('Receiver Operating Characteristic')\n",
      "    plt.plot(false_positive_rate, true_positive_rate, 'b', label='AUC = %0.2f' %roc_auc)\n",
      "    plt.legend(loc='lower right')\n",
      "    plt.plot([0, 1], [0, 1], 'r--')\n",
      "    plt.xlim([0.0, 1.0])\n",
      "    plt.ylim([0.0, 1.0])\n",
      "    plt.ylabel('False Negative Rate')\n",
      "    plt.xlabel('True Positive Rate')\n",
      "    plt.show()\n",
      "    \n",
      "def pseudo_F(X, labels, centroids):\n",
      "   \n",
      "    mean = np.mean(X,axis=0) \n",
      "    B = np.sum([ (c - mean)**2 for c in centroids])\n",
      "    W = np.sum([ (x-centroids[labels[i]])**2 \n",
      "                 for i, x in enumerate(X)])\n",
      "    c = len(centroids)\n",
      "    n = len(X)\n",
      "    return (B /(c-1))/(W/ (n-c))\n"
     ],
     "language": "python",
     "metadata": {},
     "outputs": [],
     "prompt_number": 3
    },
    {
     "cell_type": "code",
     "collapsed": false,
     "input": [
      "#\n",
      "#Load/encode data\n",
      "#\n",
      "data = pd.read_csv('/home/mathman/Desktop/csun/data/psychology_redacted.csv')\n",
      "data['Graduated'].replace(to_replace=('N','Y'), value=(0,1), inplace=True)\n",
      "data.head()\n",
      "\n",
      "def encode(s):\n",
      "    v = re.split(r':',s)\n",
      "    x = v[1][1:]\n",
      "    out = 0.0\n",
      "    if x=='A+':\n",
      "        out=4.0\n",
      "    if x=='A':\n",
      "        out=4.0\n",
      "    if x=='A-':\n",
      "        out=3.7\n",
      "    if x=='B+':\n",
      "        out=3.3\n",
      "    if x=='B':\n",
      "        out=3.0\n",
      "    if x=='B-':\n",
      "        out=2.7\n",
      "    if x=='C+':\n",
      "        out=2.3\n",
      "    if x=='C':\n",
      "        out=2.0\n",
      "    if x=='C-':\n",
      "        out=1.7\n",
      "    if x=='D+':\n",
      "        out=1.3\n",
      "    if x=='D':\n",
      "        out=1.0\n",
      "    if x=='D-':\n",
      "        out=0.7\n",
      "    if x=='F':\n",
      "        out=0.0\n",
      "    if x=='NA':\n",
      "        out=0.0\n",
      "    if x=='CR':\n",
      "        out=2.0\n",
      "    return float(out-2.0)\n",
      "\n",
      "gpaDF=data[data.columns[5:]].applymap(encode) #apply above encoding function \n",
      "gpaDF[data.columns[:5]]=data[data.columns[:5]]\n",
      "gpaDF=gpaDF[data.columns]"
     ],
     "language": "python",
     "metadata": {},
     "outputs": [],
     "prompt_number": 6
    },
    {
     "cell_type": "code",
     "collapsed": false,
     "input": [
      "from sklearn.decomposition import PCA\n",
      "\n",
      "col = [i for i in range(5,32)] #all psych classes\n",
      "col = [7,8,10]\n",
      "pca = PCA(n_components=2)\n",
      "\n",
      "X_raw=gpaDF[gpaDF.columns[col]]\n",
      "normalizer=sklearn.preprocessing.Normalizer()\n",
      "\n",
      "X_raw_norm = X_raw\n",
      "#X_raw_norm= normalizer.fit_transform(X_raw.transpose().values.astype('float64')).transpose()#(X_raw - X_raw.mean()) / (X_raw.max() - X_raw.min())\n",
      "#X_raw_norm= normalizer.fit_transform(X_raw.values.astype('float64'))\n",
      "\n",
      "reduced_X = pca.fit_transform(X_raw_norm)\n",
      "y=data['Graduated']\n",
      "\n",
      "red_x, red_y = [], []\n",
      "blue_x, blue_y = [], []\n",
      "\n",
      "for i in range(len(reduced_X)):\n",
      "    if y[i] == 0:\n",
      "        red_x.append(reduced_X[i][0])\n",
      "        red_y.append(reduced_X[i][1])\n",
      "    elif y[i] == 1:\n",
      "        blue_x.append(reduced_X[i][0])\n",
      "        blue_y.append(reduced_X[i][1])\n",
      "\n",
      "plt.scatter(red_x, red_y, c='r', marker='x')\n",
      "plt.scatter(blue_x, blue_y, c='b', marker='x')\n",
      "\n",
      "plt.show()"
     ],
     "language": "python",
     "metadata": {},
     "outputs": [
      {
       "metadata": {},
       "output_type": "display_data",
       "png": "[encoded data removed]",
       "text": [
        "<matplotlib.figure.Figure at 0x7faf7e9cce50>"
       ]
      }
     ],
     "prompt_number": 7
    },
    {
     "cell_type": "code",
     "collapsed": false,
     "input": [
      "#\n",
      "#Correlation of pc1 with each course\n",
      "#\n",
      "\n",
      "dfPC1=pd.DataFrame({'class':gpaDF.columns[col], 'eig_comp':pca.components_[0]})\n",
      "print dfPC1.sort('eig_comp', ascending=False).head(10)\n",
      "pca.explained_variance_ratio_"
     ],
     "language": "python",
     "metadata": {},
     "outputs": [
      {
       "output_type": "stream",
       "stream": "stdout",
       "text": [
        "    class  eig_comp\n",
        "2  PSY321  0.626663\n",
        "1  PSY320  0.611905\n",
        "0  PSY250  0.482561\n"
       ]
      },
      {
       "metadata": {},
       "output_type": "pyout",
       "prompt_number": 8,
       "text": [
        "array([ 0.78229131,  0.14422089])"
       ]
      }
     ],
     "prompt_number": 8
    },
    {
     "cell_type": "code",
     "collapsed": false,
     "input": [
      "plt.plot(range(2, 10), chindex, 'bx-')\n",
      "plt.xlabel('k')\n",
      "plt.ylabel('Calinski-Harabasz Index')\n",
      "plt.title('Selecting k with the CH index')\n",
      "plt.show()"
     ],
     "language": "python",
     "metadata": {},
     "outputs": [
      {
       "ename": "NameError",
       "evalue": "name 'chindex' is not defined",
       "output_type": "pyerr",
       "traceback": [
        "\u001b[0;31m---------------------------------------------------------------------------\u001b[0m\n\u001b[0;31mNameError\u001b[0m                                 Traceback (most recent call last)",
        "\u001b[0;32m<ipython-input-9-17b025dbfb83>\u001b[0m in \u001b[0;36m<module>\u001b[0;34m()\u001b[0m\n\u001b[0;32m----> 1\u001b[0;31m \u001b[0mplt\u001b[0m\u001b[0;34m.\u001b[0m\u001b[0mplot\u001b[0m\u001b[0;34m(\u001b[0m\u001b[0mrange\u001b[0m\u001b[0;34m(\u001b[0m\u001b[0;36m2\u001b[0m\u001b[0;34m,\u001b[0m \u001b[0;36m10\u001b[0m\u001b[0;34m)\u001b[0m\u001b[0;34m,\u001b[0m \u001b[0mchindex\u001b[0m\u001b[0;34m,\u001b[0m \u001b[0;34m'bx-'\u001b[0m\u001b[0;34m)\u001b[0m\u001b[0;34m\u001b[0m\u001b[0m\n\u001b[0m\u001b[1;32m      2\u001b[0m \u001b[0mplt\u001b[0m\u001b[0;34m.\u001b[0m\u001b[0mxlabel\u001b[0m\u001b[0;34m(\u001b[0m\u001b[0;34m'k'\u001b[0m\u001b[0;34m)\u001b[0m\u001b[0;34m\u001b[0m\u001b[0m\n\u001b[1;32m      3\u001b[0m \u001b[0mplt\u001b[0m\u001b[0;34m.\u001b[0m\u001b[0mylabel\u001b[0m\u001b[0;34m(\u001b[0m\u001b[0;34m'Calinski-Harabasz Index'\u001b[0m\u001b[0;34m)\u001b[0m\u001b[0;34m\u001b[0m\u001b[0m\n\u001b[1;32m      4\u001b[0m \u001b[0mplt\u001b[0m\u001b[0;34m.\u001b[0m\u001b[0mtitle\u001b[0m\u001b[0;34m(\u001b[0m\u001b[0;34m'Selecting k with the CH index'\u001b[0m\u001b[0;34m)\u001b[0m\u001b[0;34m\u001b[0m\u001b[0m\n\u001b[1;32m      5\u001b[0m \u001b[0mplt\u001b[0m\u001b[0;34m.\u001b[0m\u001b[0mshow\u001b[0m\u001b[0;34m(\u001b[0m\u001b[0;34m)\u001b[0m\u001b[0;34m\u001b[0m\u001b[0m\n",
        "\u001b[0;31mNameError\u001b[0m: name 'chindex' is not defined"
       ]
      }
     ],
     "prompt_number": 9
    },
    {
     "cell_type": "code",
     "collapsed": false,
     "input": [
      "#\n",
      "#Kmeans with L1 metric from Seyed's code\n",
      "#\n",
      "\n",
      "import sys\n",
      "sys.path.insert(1,'/home/mathman/Desktop/csun/seyed')\n",
      "\n",
      "from sklearn import metrics\n",
      "import kmeansdistance as KD\n",
      "from sklearn.cluster import KMeans\n",
      "\n",
      "col = [i for i in range(5,32)]\n",
      "\n",
      "misdistman = []\n",
      "chindex = []\n",
      "X = gpaDF[gpaDF.columns[col]]\n",
      "for i in range(1,10):\n",
      "    kmeans = KMeans(n_clusters=i)\n",
      "    kmeans.fit(X)\n",
      "    kfit = KD.kmeans(X,kmeans.cluster_centers_,metric = \"cityblock\")\n",
      "    misdistman.append(sum(np.min(cdist(X, kfit[0],'cityblock'), axis=1)) / X.shape[0])\n",
      "    if i>1 :\n",
      "        kmeans_model = KMeans(n_clusters=i).fit(X)\n",
      "        #chindex.append(pseudo_F(X, kmeans_model.labels_,kmeans.cluster_centers_))\n",
      "        kfit = KD.kmeans(X,kmeans.cluster_centers_,metric = \"cityblock\")\n",
      "        print \"K=\",i,\" silhouette score\", metrics.silhouette_score(X,kfit[1],metric='euclidean')\n",
      "'''kmeans = KMeans(3)\n",
      "kmeans.fit(X)\n",
      "kfit = KD.kmeans(X,kmeans.cluster_centers_,metric = \"cityblock\")\n",
      "len(kfit)\n",
      "'''\n",
      "data = pd.DataFrame(numgrade)\n",
      "X = numgrade\n",
      "K = range(1, 10)\n",
      "meandistortions = []\n",
      "\n",
      "\n",
      "\n",
      "plt.plot(range(1,10), misdistman, 'bx-')\n",
      "plt.xlabel('k')\n",
      "plt.ylabel('L1 Average Distortion')\n",
      "plt.title('Selecting k with the Elbow Method')\n",
      "plt.show()"
     ],
     "language": "python",
     "metadata": {},
     "outputs": [
      {
       "output_type": "stream",
       "stream": "stdout",
       "text": [
        "K= 2  silhouette score "
       ]
      },
      {
       "output_type": "stream",
       "stream": "stdout",
       "text": [
        "0.2320435507\n",
        "K="
       ]
      },
      {
       "output_type": "stream",
       "stream": "stdout",
       "text": [
        " 3  silhouette score "
       ]
      },
      {
       "output_type": "stream",
       "stream": "stdout",
       "text": [
        "0.245069507802\n",
        "K="
       ]
      },
      {
       "output_type": "stream",
       "stream": "stdout",
       "text": [
        " 4  silhouette score "
       ]
      },
      {
       "output_type": "stream",
       "stream": "stdout",
       "text": [
        "0.226398522085\n",
        "K="
       ]
      },
      {
       "output_type": "stream",
       "stream": "stdout",
       "text": [
        " 5  silhouette score "
       ]
      },
      {
       "output_type": "stream",
       "stream": "stdout",
       "text": [
        "0.201354665255\n",
        "K="
       ]
      },
      {
       "output_type": "stream",
       "stream": "stdout",
       "text": [
        " 6  silhouette score "
       ]
      },
      {
       "output_type": "stream",
       "stream": "stdout",
       "text": [
        "0.205169050073\n",
        "K="
       ]
      },
      {
       "output_type": "stream",
       "stream": "stdout",
       "text": [
        " 7  silhouette score "
       ]
      },
      {
       "output_type": "stream",
       "stream": "stdout",
       "text": [
        "0.199541817694\n",
        "K="
       ]
      },
      {
       "output_type": "stream",
       "stream": "stdout",
       "text": [
        " 8  silhouette score "
       ]
      },
      {
       "output_type": "stream",
       "stream": "stdout",
       "text": [
        "0.193102568345\n",
        "K="
       ]
      },
      {
       "output_type": "stream",
       "stream": "stdout",
       "text": [
        " 9  silhouette score "
       ]
      },
      {
       "ename": "NameError",
       "evalue": "name 'numgrade' is not defined",
       "output_type": "pyerr",
       "traceback": [
        "\u001b[0;31m---------------------------------------------------------------------------\u001b[0m\n\u001b[0;31mNameError\u001b[0m                                 Traceback (most recent call last)",
        "\u001b[0;32m<ipython-input-11-7c0a2d9646ba>\u001b[0m in \u001b[0;36m<module>\u001b[0;34m()\u001b[0m\n\u001b[1;32m     30\u001b[0m \u001b[0mlen\u001b[0m\u001b[0;34m(\u001b[0m\u001b[0mkfit\u001b[0m\u001b[0;34m)\u001b[0m\u001b[0;34m\u001b[0m\u001b[0m\n\u001b[1;32m     31\u001b[0m '''\n\u001b[0;32m---> 32\u001b[0;31m \u001b[0mdata\u001b[0m \u001b[0;34m=\u001b[0m \u001b[0mpd\u001b[0m\u001b[0;34m.\u001b[0m\u001b[0mDataFrame\u001b[0m\u001b[0;34m(\u001b[0m\u001b[0mnumgrade\u001b[0m\u001b[0;34m)\u001b[0m\u001b[0;34m\u001b[0m\u001b[0m\n\u001b[0m\u001b[1;32m     33\u001b[0m \u001b[0mX\u001b[0m \u001b[0;34m=\u001b[0m \u001b[0mnumgrade\u001b[0m\u001b[0;34m\u001b[0m\u001b[0m\n\u001b[1;32m     34\u001b[0m \u001b[0mK\u001b[0m \u001b[0;34m=\u001b[0m \u001b[0mrange\u001b[0m\u001b[0;34m(\u001b[0m\u001b[0;36m1\u001b[0m\u001b[0;34m,\u001b[0m \u001b[0;36m10\u001b[0m\u001b[0;34m)\u001b[0m\u001b[0;34m\u001b[0m\u001b[0m\n",
        "\u001b[0;31mNameError\u001b[0m: name 'numgrade' is not defined"
       ]
      },
      {
       "output_type": "stream",
       "stream": "stdout",
       "text": [
        "0.186744361822\n"
       ]
      }
     ],
     "prompt_number": 11
    },
    {
     "cell_type": "code",
     "collapsed": false,
     "input": [
      "#\n",
      "#Probably deprecating this cell in favor of Seyed's L1 k-means, but want to investigate CH index first\n",
      "#\n",
      "\n",
      "col = [i for i in range(5,32)]\n",
      "K = range(10)\n",
      "meandistortions = []\n",
      "silhouette=[]\n",
      "\n",
      "#X_train, X_test, y_train, y_test = train_test_split(gpaDF[gpaDF.columns[col]], data2['Graduated'])\n",
      "\n",
      "#regular Kmeans\n",
      "for k in K:\n",
      "    ####Chris: add sil. scores & CH-INDEX\n",
      "    kmeans = KMeans(n_clusters=k)\n",
      "    kmeans.fit(gpaDF[gpaDF.columns[col]])\n",
      "    silhouette.append([k, metrics.silhouette_score(gpaDF[gpaDF.columns[col]],kmeans.labels_,metric='euclidean')])\n",
      "    #ch.append([k,pseudo_F(data[data.columns[cl:]].values,kmeans.labels_,kmeans.cluster_centers_)])\n",
      "    meandistortions.append(sum(np.min(cdist(gpaDF[gpaDF.columns[col]],\\\n",
      "                                            kmeans.cluster_centers_,\\\n",
      "                                            'l1'), axis=1)) / gpaDF[gpaDF.columns[col]].shape[0])\n",
      "\n",
      "plt.plot(K, meandistortions, 'bx-')\n",
      "plt.xlabel('k')\n",
      "plt.ylabel('Average distortion')\n",
      "#plt.title('Selecting k with the Elbow Method')\n",
      "plt.show()\n",
      "\n",
      "#center=clusterCenters(data, k=k,n_tests=10,init='random')\n",
      "# kmeans_model = KMeans(n_clusters=k, n_init=20).fit(gpaDF[gpaDF.columns[cl:]])\n",
      "# gradClustersDF=printClusters(ratedDF, kmeans_model.labels_,k=kmeans_model.n_clusters)\n",
      "# plotPCA(ratedDF[gpaDF.columns[cl:]],kmeans_model.labels_,k=kmeans_model.n_clusters,norm=False, centered=False)\n",
      "\n",
      "#distancesDF=getDistancesDF(gpaDF.columns[cl:], kmeans_model.cluster_centers_,k=kmeans_model.n_clusters)\n",
      "#distancesDF['Distance']=abs(distancesDF['Cluster0']-distancesDF['Cluster1'])\n",
      "#distancesDF.sort('Distance', ascending=False)"
     ],
     "language": "python",
     "metadata": {},
     "outputs": [
      {
       "ename": "OverflowError",
       "evalue": "cannot convert float infinity to integer",
       "output_type": "pyerr",
       "traceback": [
        "\u001b[0;31m---------------------------------------------------------------------------\u001b[0m\n\u001b[0;31mOverflowError\u001b[0m                             Traceback (most recent call last)",
        "\u001b[0;32m<ipython-input-12-c50e18738a0f>\u001b[0m in \u001b[0;36m<module>\u001b[0;34m()\u001b[0m\n\u001b[1;32m     14\u001b[0m     \u001b[0;31m####Chris: add sil. scores & CH-INDEX\u001b[0m\u001b[0;34m\u001b[0m\u001b[0;34m\u001b[0m\u001b[0m\n\u001b[1;32m     15\u001b[0m     \u001b[0mkmeans\u001b[0m \u001b[0;34m=\u001b[0m \u001b[0mKMeans\u001b[0m\u001b[0;34m(\u001b[0m\u001b[0mn_clusters\u001b[0m\u001b[0;34m=\u001b[0m\u001b[0mk\u001b[0m\u001b[0;34m)\u001b[0m\u001b[0;34m\u001b[0m\u001b[0m\n\u001b[0;32m---> 16\u001b[0;31m     \u001b[0mkmeans\u001b[0m\u001b[0;34m.\u001b[0m\u001b[0mfit\u001b[0m\u001b[0;34m(\u001b[0m\u001b[0mgpaDF\u001b[0m\u001b[0;34m[\u001b[0m\u001b[0mgpaDF\u001b[0m\u001b[0;34m.\u001b[0m\u001b[0mcolumns\u001b[0m\u001b[0;34m[\u001b[0m\u001b[0mcol\u001b[0m\u001b[0;34m]\u001b[0m\u001b[0;34m]\u001b[0m\u001b[0;34m)\u001b[0m\u001b[0;34m\u001b[0m\u001b[0m\n\u001b[0m\u001b[1;32m     17\u001b[0m     \u001b[0msilhouette\u001b[0m\u001b[0;34m.\u001b[0m\u001b[0mappend\u001b[0m\u001b[0;34m(\u001b[0m\u001b[0;34m[\u001b[0m\u001b[0mk\u001b[0m\u001b[0;34m,\u001b[0m \u001b[0mmetrics\u001b[0m\u001b[0;34m.\u001b[0m\u001b[0msilhouette_score\u001b[0m\u001b[0;34m(\u001b[0m\u001b[0mgpaDF\u001b[0m\u001b[0;34m[\u001b[0m\u001b[0mgpaDF\u001b[0m\u001b[0;34m.\u001b[0m\u001b[0mcolumns\u001b[0m\u001b[0;34m[\u001b[0m\u001b[0mcol\u001b[0m\u001b[0;34m]\u001b[0m\u001b[0;34m]\u001b[0m\u001b[0;34m,\u001b[0m\u001b[0mkmeans\u001b[0m\u001b[0;34m.\u001b[0m\u001b[0mlabels_\u001b[0m\u001b[0;34m,\u001b[0m\u001b[0mmetric\u001b[0m\u001b[0;34m=\u001b[0m\u001b[0;34m'euclidean'\u001b[0m\u001b[0;34m)\u001b[0m\u001b[0;34m]\u001b[0m\u001b[0;34m)\u001b[0m\u001b[0;34m\u001b[0m\u001b[0m\n\u001b[1;32m     18\u001b[0m     \u001b[0;31m#ch.append([k,pseudo_F(data[data.columns[cl:]].values,kmeans.labels_,kmeans.cluster_centers_)])\u001b[0m\u001b[0;34m\u001b[0m\u001b[0;34m\u001b[0m\u001b[0m\n",
        "\u001b[0;32m/usr/lib/python2.7/dist-packages/sklearn/cluster/k_means_.pyc\u001b[0m in \u001b[0;36mfit\u001b[0;34m(self, X, y)\u001b[0m\n\u001b[1;32m    707\u001b[0m             \u001b[0mprecompute_distances\u001b[0m\u001b[0;34m=\u001b[0m\u001b[0mself\u001b[0m\u001b[0;34m.\u001b[0m\u001b[0mprecompute_distances\u001b[0m\u001b[0;34m,\u001b[0m\u001b[0;34m\u001b[0m\u001b[0m\n\u001b[1;32m    708\u001b[0m             \u001b[0mtol\u001b[0m\u001b[0;34m=\u001b[0m\u001b[0mself\u001b[0m\u001b[0;34m.\u001b[0m\u001b[0mtol\u001b[0m\u001b[0;34m,\u001b[0m \u001b[0mrandom_state\u001b[0m\u001b[0;34m=\u001b[0m\u001b[0mrandom_state\u001b[0m\u001b[0;34m,\u001b[0m \u001b[0mcopy_x\u001b[0m\u001b[0;34m=\u001b[0m\u001b[0mself\u001b[0m\u001b[0;34m.\u001b[0m\u001b[0mcopy_x\u001b[0m\u001b[0;34m,\u001b[0m\u001b[0;34m\u001b[0m\u001b[0m\n\u001b[0;32m--> 709\u001b[0;31m             n_jobs=self.n_jobs)\n\u001b[0m\u001b[1;32m    710\u001b[0m         \u001b[0;32mreturn\u001b[0m \u001b[0mself\u001b[0m\u001b[0;34m\u001b[0m\u001b[0m\n\u001b[1;32m    711\u001b[0m \u001b[0;34m\u001b[0m\u001b[0m\n",
        "\u001b[0;32m/usr/lib/python2.7/dist-packages/sklearn/cluster/k_means_.pyc\u001b[0m in \u001b[0;36mk_means\u001b[0;34m(X, n_clusters, init, precompute_distances, n_init, max_iter, verbose, tol, random_state, copy_x, n_jobs)\u001b[0m\n\u001b[1;32m    265\u001b[0m                 \u001b[0mX\u001b[0m\u001b[0;34m,\u001b[0m \u001b[0mn_clusters\u001b[0m\u001b[0;34m,\u001b[0m \u001b[0mmax_iter\u001b[0m\u001b[0;34m=\u001b[0m\u001b[0mmax_iter\u001b[0m\u001b[0;34m,\u001b[0m \u001b[0minit\u001b[0m\u001b[0;34m=\u001b[0m\u001b[0minit\u001b[0m\u001b[0;34m,\u001b[0m \u001b[0mverbose\u001b[0m\u001b[0;34m=\u001b[0m\u001b[0mverbose\u001b[0m\u001b[0;34m,\u001b[0m\u001b[0;34m\u001b[0m\u001b[0m\n\u001b[1;32m    266\u001b[0m                 \u001b[0mprecompute_distances\u001b[0m\u001b[0;34m=\u001b[0m\u001b[0mprecompute_distances\u001b[0m\u001b[0;34m,\u001b[0m \u001b[0mtol\u001b[0m\u001b[0;34m=\u001b[0m\u001b[0mtol\u001b[0m\u001b[0;34m,\u001b[0m\u001b[0;34m\u001b[0m\u001b[0m\n\u001b[0;32m--> 267\u001b[0;31m                 x_squared_norms=x_squared_norms, random_state=random_state)\n\u001b[0m\u001b[1;32m    268\u001b[0m             \u001b[0;31m# determine if these results are the best so far\u001b[0m\u001b[0;34m\u001b[0m\u001b[0;34m\u001b[0m\u001b[0m\n\u001b[1;32m    269\u001b[0m             \u001b[0;32mif\u001b[0m \u001b[0mbest_inertia\u001b[0m \u001b[0;32mis\u001b[0m \u001b[0mNone\u001b[0m \u001b[0;32mor\u001b[0m \u001b[0minertia\u001b[0m \u001b[0;34m<\u001b[0m \u001b[0mbest_inertia\u001b[0m\u001b[0;34m:\u001b[0m\u001b[0;34m\u001b[0m\u001b[0m\n",
        "\u001b[0;32m/usr/lib/python2.7/dist-packages/sklearn/cluster/k_means_.pyc\u001b[0m in \u001b[0;36m_kmeans_single\u001b[0;34m(X, n_clusters, max_iter, init, verbose, x_squared_norms, random_state, tol, precompute_distances)\u001b[0m\n\u001b[1;32m    362\u001b[0m     \u001b[0;31m# init\u001b[0m\u001b[0;34m\u001b[0m\u001b[0;34m\u001b[0m\u001b[0m\n\u001b[1;32m    363\u001b[0m     centers = _init_centroids(X, n_clusters, init, random_state=random_state,\n\u001b[0;32m--> 364\u001b[0;31m                               x_squared_norms=x_squared_norms)\n\u001b[0m\u001b[1;32m    365\u001b[0m     \u001b[0;32mif\u001b[0m \u001b[0mverbose\u001b[0m\u001b[0;34m:\u001b[0m\u001b[0;34m\u001b[0m\u001b[0m\n\u001b[1;32m    366\u001b[0m         \u001b[0;32mprint\u001b[0m\u001b[0;34m(\u001b[0m\u001b[0;34m'Initialization complete'\u001b[0m\u001b[0;34m)\u001b[0m\u001b[0;34m\u001b[0m\u001b[0m\n",
        "\u001b[0;32m/usr/lib/python2.7/dist-packages/sklearn/cluster/k_means_.pyc\u001b[0m in \u001b[0;36m_init_centroids\u001b[0;34m(X, k, init, random_state, x_squared_norms, init_size)\u001b[0m\n\u001b[1;32m    530\u001b[0m     \u001b[0;32mif\u001b[0m \u001b[0minit\u001b[0m \u001b[0;34m==\u001b[0m \u001b[0;34m'k-means++'\u001b[0m\u001b[0;34m:\u001b[0m\u001b[0;34m\u001b[0m\u001b[0m\n\u001b[1;32m    531\u001b[0m         centers = _k_init(X, k, random_state=random_state,\n\u001b[0;32m--> 532\u001b[0;31m                           x_squared_norms=x_squared_norms)\n\u001b[0m\u001b[1;32m    533\u001b[0m     \u001b[0;32melif\u001b[0m \u001b[0minit\u001b[0m \u001b[0;34m==\u001b[0m \u001b[0;34m'random'\u001b[0m\u001b[0;34m:\u001b[0m\u001b[0;34m\u001b[0m\u001b[0m\n\u001b[1;32m    534\u001b[0m         \u001b[0mseeds\u001b[0m \u001b[0;34m=\u001b[0m \u001b[0mrandom_state\u001b[0m\u001b[0;34m.\u001b[0m\u001b[0mpermutation\u001b[0m\u001b[0;34m(\u001b[0m\u001b[0mn_samples\u001b[0m\u001b[0;34m)\u001b[0m\u001b[0;34m[\u001b[0m\u001b[0;34m:\u001b[0m\u001b[0mk\u001b[0m\u001b[0;34m]\u001b[0m\u001b[0;34m\u001b[0m\u001b[0m\n",
        "\u001b[0;32m/usr/lib/python2.7/dist-packages/sklearn/cluster/k_means_.pyc\u001b[0m in \u001b[0;36m_k_init\u001b[0;34m(X, n_clusters, n_local_trials, random_state, x_squared_norms)\u001b[0m\n\u001b[1;32m     82\u001b[0m         \u001b[0;31m# specific results for other than mentioning in the conclusion\u001b[0m\u001b[0;34m\u001b[0m\u001b[0;34m\u001b[0m\u001b[0m\n\u001b[1;32m     83\u001b[0m         \u001b[0;31m# that it helped.\u001b[0m\u001b[0;34m\u001b[0m\u001b[0;34m\u001b[0m\u001b[0m\n\u001b[0;32m---> 84\u001b[0;31m         \u001b[0mn_local_trials\u001b[0m \u001b[0;34m=\u001b[0m \u001b[0;36m2\u001b[0m \u001b[0;34m+\u001b[0m \u001b[0mint\u001b[0m\u001b[0;34m(\u001b[0m\u001b[0mnp\u001b[0m\u001b[0;34m.\u001b[0m\u001b[0mlog\u001b[0m\u001b[0;34m(\u001b[0m\u001b[0mn_clusters\u001b[0m\u001b[0;34m)\u001b[0m\u001b[0;34m)\u001b[0m\u001b[0;34m\u001b[0m\u001b[0m\n\u001b[0m\u001b[1;32m     85\u001b[0m \u001b[0;34m\u001b[0m\u001b[0m\n\u001b[1;32m     86\u001b[0m     \u001b[0;31m# Pick first center randomly\u001b[0m\u001b[0;34m\u001b[0m\u001b[0;34m\u001b[0m\u001b[0m\n",
        "\u001b[0;31mOverflowError\u001b[0m: cannot convert float infinity to integer"
       ]
      }
     ],
     "prompt_number": 12
    },
    {
     "cell_type": "code",
     "collapsed": false,
     "input": [
      "#\n",
      "#This cell isn't going to make sense if the ideal # of clusters for your major is not 2\n",
      "#\n",
      "\n",
      "from sklearn.cluster import KMeans\n",
      "k=2\n",
      "col = [i for i in range(5,32)]\n",
      "\n",
      "X_train, X_test, y_train, y_test = train_test_split(gpaDF[gpaDF.columns[col]], data['Graduated'])\n",
      "classifier = KMeans(n_clusters=k, n_init=20)\n",
      "classifier.fit(X_train, y_train)\n",
      "y_pred = classifier.predict(X_test)\n",
      "printContingencyTable(y_test,y_pred)"
     ],
     "language": "python",
     "metadata": {},
     "outputs": [
      {
       "metadata": {},
       "output_type": "display_data",
       "png": "[encoded data removed]",
       "text": [
        "<matplotlib.figure.Figure at 0x7fafb115f6d0>"
       ]
      },
      {
       "output_type": "stream",
       "stream": "stdout",
       "text": [
        "[[ 372 1260]\n",
        " [1220   19]]\n"
       ]
      }
     ],
     "prompt_number": 13
    },
    {
     "cell_type": "code",
     "collapsed": false,
     "input": [
      "col = [5,6,7,8,10]\n",
      "X_train, X_test, y_train, y_test = train_test_split(gpaDF[gpaDF.columns[col]], data['Graduated'])\n",
      "classifier = LogisticRegression()\n",
      "classifier.fit(X_train.reshape(len(X_train),len(col)), y_train)\n",
      "y_pred = classifier.predict(X_test.reshape(len(X_test),len(col)))\n",
      "print gpaDF.columns[col]\n",
      "print classifier.coef_"
     ],
     "language": "python",
     "metadata": {},
     "outputs": [
      {
       "output_type": "stream",
       "stream": "stdout",
       "text": [
        "Index([u'PSY150', u'MATH140', u'PSY250', u'PSY320', u'PSY321'], dtype='object')\n",
        "[[ 0.0701763   0.01015868  0.10541769  0.33290341  1.03755581]]\n"
       ]
      }
     ],
     "prompt_number": 14
    },
    {
     "cell_type": "code",
     "collapsed": false,
     "input": [
      "printContingencyTable(y_test,y_pred)\n",
      "scores = cross_val_score(classifier, X_train, y_train, cv=5)\n",
      "print 'Accuracy:  ', np.mean(scores)\n",
      "precisions = cross_val_score(classifier, X_train, y_train, cv=5, scoring='precision')\n",
      "print 'Precision: ', np.mean(precisions)\n",
      "recalls = cross_val_score(classifier, X_train, y_train, cv=5, scoring='recall')\n",
      "print 'Recall:    ', np.mean(recalls)\n",
      "f1s = cross_val_score(classifier, X_train, y_train, cv=5, scoring='f1')\n",
      "print 'F1:        ', np.mean(f1s)"
     ],
     "language": "python",
     "metadata": {},
     "outputs": [
      {
       "metadata": {},
       "output_type": "display_data",
       "png": "[encoded data removed]",
       "text": [
        "<matplotlib.figure.Figure at 0x7faf7e93eb50>"
       ]
      },
      {
       "output_type": "stream",
       "stream": "stdout",
       "text": [
        "[[1362  261]\n",
        " [ 166 1082]]\n",
        "Accuracy:  "
       ]
      },
      {
       "output_type": "stream",
       "stream": "stdout",
       "text": [
        " 0.843589463587\n",
        "Precision: "
       ]
      },
      {
       "output_type": "stream",
       "stream": "stdout",
       "text": [
        " 0.788016990549\n",
        "Recall:     0.864404625747\n",
        "F1:        "
       ]
      },
      {
       "output_type": "stream",
       "stream": "stdout",
       "text": [
        " 0.824373095615\n"
       ]
      }
     ],
     "prompt_number": 15
    },
    {
     "cell_type": "code",
     "collapsed": false,
     "input": [
      "#\n",
      "#Pull out Seyed's L1 k-means labels (w/ whatever the optimum # of clusters is) and use them to train a Random Forests classifier\n",
      "#\n",
      "\n",
      "from sklearn.ensemble import RandomForestClassifier\n",
      "col = [i for i in range(5,32)]\n",
      "col = [5,6,7,8,10]\n",
      "X_train, X_test, y_train, y_test = train_test_split(gpaDF[gpaDF.columns[col]], \"\"\"place Seyed's labels here\"\"\")\n",
      "\n",
      "classifier = RandomForestClassifier(n_estimators=10, random_state=0)\n",
      "printContingencyTable(y_test,y_pred)\n",
      "scores = cross_val_score(classifier, X_train, y_train, cv=5)\n",
      "print 'Accuracy:  ', np.mean(scores)\n",
      "precisions = cross_val_score(classifier, X_train, y_train, cv=5, scoring='precision')\n",
      "print 'Precision: ', np.mean(precisions)\n",
      "recalls = cross_val_score(classifier, X_train, y_train, cv=5, scoring='recall')\n",
      "print 'Recall:    ', np.mean(recalls)\n",
      "f1s = cross_val_score(classifier, X_train, y_train, cv=5, scoring='f1')\n",
      "print 'F1:        ', np.mean(f1s)"
     ],
     "language": "python",
     "metadata": {},
     "outputs": [
      {
       "ename": "ValueError",
       "evalue": "Found array with dim 25. Expected 11483",
       "output_type": "pyerr",
       "traceback": [
        "\u001b[0;31m---------------------------------------------------------------------------\u001b[0m\n\u001b[0;31mValueError\u001b[0m                                Traceback (most recent call last)",
        "\u001b[0;32m<ipython-input-16-7b925feda82f>\u001b[0m in \u001b[0;36m<module>\u001b[0;34m()\u001b[0m\n\u001b[1;32m      6\u001b[0m \u001b[0mcol\u001b[0m \u001b[0;34m=\u001b[0m \u001b[0;34m[\u001b[0m\u001b[0mi\u001b[0m \u001b[0;32mfor\u001b[0m \u001b[0mi\u001b[0m \u001b[0;32min\u001b[0m \u001b[0mrange\u001b[0m\u001b[0;34m(\u001b[0m\u001b[0;36m5\u001b[0m\u001b[0;34m,\u001b[0m\u001b[0;36m32\u001b[0m\u001b[0;34m)\u001b[0m\u001b[0;34m]\u001b[0m\u001b[0;34m\u001b[0m\u001b[0m\n\u001b[1;32m      7\u001b[0m \u001b[0mcol\u001b[0m \u001b[0;34m=\u001b[0m \u001b[0;34m[\u001b[0m\u001b[0;36m5\u001b[0m\u001b[0;34m,\u001b[0m\u001b[0;36m6\u001b[0m\u001b[0;34m,\u001b[0m\u001b[0;36m7\u001b[0m\u001b[0;34m,\u001b[0m\u001b[0;36m8\u001b[0m\u001b[0;34m,\u001b[0m\u001b[0;36m10\u001b[0m\u001b[0;34m]\u001b[0m\u001b[0;34m\u001b[0m\u001b[0m\n\u001b[0;32m----> 8\u001b[0;31m \u001b[0mX_train\u001b[0m\u001b[0;34m,\u001b[0m \u001b[0mX_test\u001b[0m\u001b[0;34m,\u001b[0m \u001b[0my_train\u001b[0m\u001b[0;34m,\u001b[0m \u001b[0my_test\u001b[0m \u001b[0;34m=\u001b[0m \u001b[0mtrain_test_split\u001b[0m\u001b[0;34m(\u001b[0m\u001b[0mgpaDF\u001b[0m\u001b[0;34m[\u001b[0m\u001b[0mgpaDF\u001b[0m\u001b[0;34m.\u001b[0m\u001b[0mcolumns\u001b[0m\u001b[0;34m[\u001b[0m\u001b[0mcol\u001b[0m\u001b[0;34m]\u001b[0m\u001b[0;34m]\u001b[0m\u001b[0;34m,\u001b[0m \u001b[0;34m\"\"\"place Seyed's labels here\"\"\"\u001b[0m\u001b[0;34m)\u001b[0m\u001b[0;34m\u001b[0m\u001b[0m\n\u001b[0m\u001b[1;32m      9\u001b[0m \u001b[0;34m\u001b[0m\u001b[0m\n\u001b[1;32m     10\u001b[0m \u001b[0mclassifier\u001b[0m \u001b[0;34m=\u001b[0m \u001b[0mRandomForestClassifier\u001b[0m\u001b[0;34m(\u001b[0m\u001b[0mn_estimators\u001b[0m\u001b[0;34m=\u001b[0m\u001b[0;36m10\u001b[0m\u001b[0;34m,\u001b[0m \u001b[0mrandom_state\u001b[0m\u001b[0;34m=\u001b[0m\u001b[0;36m0\u001b[0m\u001b[0;34m)\u001b[0m\u001b[0;34m\u001b[0m\u001b[0m\n",
        "\u001b[0;32m/usr/lib/python2.7/dist-packages/sklearn/cross_validation.pyc\u001b[0m in \u001b[0;36mtrain_test_split\u001b[0;34m(*arrays, **options)\u001b[0m\n\u001b[1;32m   1392\u001b[0m         \u001b[0mtest_size\u001b[0m \u001b[0;34m=\u001b[0m \u001b[0;36m0.25\u001b[0m\u001b[0;34m\u001b[0m\u001b[0m\n\u001b[1;32m   1393\u001b[0m \u001b[0;34m\u001b[0m\u001b[0m\n\u001b[0;32m-> 1394\u001b[0;31m     \u001b[0marrays\u001b[0m \u001b[0;34m=\u001b[0m \u001b[0mcheck_arrays\u001b[0m\u001b[0;34m(\u001b[0m\u001b[0;34m*\u001b[0m\u001b[0marrays\u001b[0m\u001b[0;34m,\u001b[0m \u001b[0;34m**\u001b[0m\u001b[0moptions\u001b[0m\u001b[0;34m)\u001b[0m\u001b[0;34m\u001b[0m\u001b[0m\n\u001b[0m\u001b[1;32m   1395\u001b[0m     \u001b[0mn_samples\u001b[0m \u001b[0;34m=\u001b[0m \u001b[0marrays\u001b[0m\u001b[0;34m[\u001b[0m\u001b[0;36m0\u001b[0m\u001b[0;34m]\u001b[0m\u001b[0;34m.\u001b[0m\u001b[0mshape\u001b[0m\u001b[0;34m[\u001b[0m\u001b[0;36m0\u001b[0m\u001b[0;34m]\u001b[0m\u001b[0;34m\u001b[0m\u001b[0m\n\u001b[1;32m   1396\u001b[0m     cv = ShuffleSplit(n_samples, test_size=test_size,\n",
        "\u001b[0;32m/usr/lib/python2.7/dist-packages/sklearn/utils/validation.pyc\u001b[0m in \u001b[0;36mcheck_arrays\u001b[0;34m(*arrays, **options)\u001b[0m\n\u001b[1;32m    209\u001b[0m         \u001b[0;32mif\u001b[0m \u001b[0msize\u001b[0m \u001b[0;34m!=\u001b[0m \u001b[0mn_samples\u001b[0m\u001b[0;34m:\u001b[0m\u001b[0;34m\u001b[0m\u001b[0m\n\u001b[1;32m    210\u001b[0m             raise ValueError(\"Found array with dim %d. Expected %d\"\n\u001b[0;32m--> 211\u001b[0;31m                              % (size, n_samples))\n\u001b[0m\u001b[1;32m    212\u001b[0m \u001b[0;34m\u001b[0m\u001b[0m\n\u001b[1;32m    213\u001b[0m         \u001b[0;32mif\u001b[0m \u001b[0;32mnot\u001b[0m \u001b[0mallow_lists\u001b[0m \u001b[0;32mor\u001b[0m \u001b[0mhasattr\u001b[0m\u001b[0;34m(\u001b[0m\u001b[0marray\u001b[0m\u001b[0;34m,\u001b[0m \u001b[0;34m\"shape\"\u001b[0m\u001b[0;34m)\u001b[0m\u001b[0;34m:\u001b[0m\u001b[0;34m\u001b[0m\u001b[0m\n",
        "\u001b[0;31mValueError\u001b[0m: Found array with dim 25. Expected 11483"
       ]
      }
     ],
     "prompt_number": 16
    },
    {
     "cell_type": "code",
     "collapsed": false,
     "input": [
      "#\n",
      "#Show that labels are nearly as strong as the full feature set (i.e. analog of an enterotype for student performance)\n",
      "#\n",
      "\n",
      "col = [i for i in range(5,32)]\n",
      "col = [5,6,7,8,10]\n",
      "X_train, X_test, y_train, y_test = train_test_split(gpaDF[gpaDF.columns[col]], data['Graduated'])\n",
      "\n",
      "k=2\n",
      "classifier = KMeans(n_clusters=k, n_init=20)\n",
      "classifier.fit(X_train, y_train)\n",
      "y_pred = classifier.predict(X_test)\n",
      "#y_pred = [i*-1 +1 for i in y_pred]\n",
      "false_positive_rate, true_positive_rate, thresholds = roc_curve(y_test,y_pred)\n",
      "roc_auc = auc(false_positive_rate, true_positive_rate)\n",
      "plt.plot(false_positive_rate, true_positive_rate, 'b', label='AUC = %0.2f' %roc_auc)\n",
      "\n",
      "classifier = LogisticRegression()\n",
      "classifier.fit(X_train.reshape(len(X_train),len(col)), y_train)\n",
      "y_pred = classifier.predict_proba(X_test)[:,1]\n",
      "false_positive_rate, true_positive_rate, thresholds = roc_curve(y_test,y_pred)\n",
      "roc_auc = auc(false_positive_rate, true_positive_rate)\n",
      "plt.plot(false_positive_rate, true_positive_rate, 'b', label='AUC = %0.2f' %roc_auc)\n",
      "\n",
      "plt.title('Receiver Operating Characteristic')\n",
      "plt.legend(loc='lower right')\n",
      "plt.plot([0, 1], [0, 1], 'r--')\n",
      "plt.xlim([0.0, 1.0])\n",
      "plt.ylim([0.0, 1.0])\n",
      "plt.ylabel('False Negative Rate')\n",
      "plt.xlabel('True Positive Rate')\n",
      "plt.show()"
     ],
     "language": "python",
     "metadata": {},
     "outputs": [
      {
       "metadata": {},
       "output_type": "display_data",
       "png": "[encoded data removed]",
       "text": [
        "<matplotlib.figure.Figure at 0x7faf7e93e210>"
       ]
      }
     ],
     "prompt_number": 17
    },
    {
     "cell_type": "code",
     "collapsed": false,
     "input": [
      "#\n",
      "#Do some basic inference on other metadata such as N_Terms or Inst_Cr\n",
      "#\n",
      "\n",
      "#plt.scatter(gpaDF['PSY321'],data['N_Terms'])\n",
      "gpa = [2.0,1.7,1.3,1.0,0.7,0.3,0.0,-0.3,-0.7,-1.0,-1.3,-1.7,-2.0]\n",
      "gpa = [[2.0,1.7,1.3,1.0,0.7,0.3,0.0],[-0.3,-0.7,-1.0,-1.3,-1.7,-2.0]]\n",
      "\n",
      "out = []\n",
      "for i in gpa:\n",
      "    out.append(gpaDF[gpaDF['PSY320'].isin(i)]['N_Terms'])\n",
      "\n",
      "fig = plt.figure(1, figsize=(9, 6))\n",
      "ax = fig.add_subplot(111) # Create an axes instance\n",
      "bp = ax.boxplot(out) # Create the boxplot\n",
      "fig.savefig('fig1.png', bbox_inches='tight') # Save the figure"
     ],
     "language": "python",
     "metadata": {},
     "outputs": [
      {
       "metadata": {},
       "output_type": "display_data",
       "png": "[encoded data removed]",
       "text": [
        "<matplotlib.figure.Figure at 0x7faf7e8b9150>"
       ]
      }
     ],
     "prompt_number": 18
    },
    {
     "cell_type": "code",
     "collapsed": false,
     "input": [
      "#\n",
      "#Do some basic inference on other metadata such as N_Terms or Inst_Cr\n",
      "#\n",
      "\n",
      "#plt.scatter(gpaDF['PSY321'],data['N_Terms'])\n",
      "gpa = [2.0,1.7,1.3,1.0,0.7,0.3,0.0,-0.3,-0.7,-1.0,-1.3,-1.7,-2.0]\n",
      "gpa = [[2.0,2,1.7,1.3,1.0,1,0.7,0.3,0,0.0],[-0.3,-0.7,-1.0,-1,-1.3,-1.7,-2.0,2]]\n",
      "\n",
      "out = []\n",
      "for i in gpa:\n",
      "    out.append(gpaDF[gpaDF['PSY320'].isin(i)]['Graduated'])\n",
      "\n",
      "\n",
      "print len(out[0]),len(out[1])\n",
      "print out[0].value_counts()\n",
      "print out[1].value_counts()\n"
     ],
     "language": "python",
     "metadata": {},
     "outputs": [
      {
       "output_type": "stream",
       "stream": "stdout",
       "text": [
        "3188 6285\n",
        "1    2244\n",
        "0     944\n",
        "dtype: int64\n",
        "0    4988\n",
        "1    1297\n",
        "dtype: int64\n"
       ]
      }
     ],
     "prompt_number": 19
    },
    {
     "cell_type": "code",
     "collapsed": false,
     "input": [
      "print out[0].value_counts()\n",
      "print out[1].value_counts()"
     ],
     "language": "python",
     "metadata": {},
     "outputs": [
      {
       "output_type": "stream",
       "stream": "stdout",
       "text": [
        "1    2244\n",
        "0     944\n",
        "dtype: int64\n",
        "0    4988\n",
        "1    1297\n",
        "dtype: int64\n"
       ]
      }
     ],
     "prompt_number": 20
    },
    {
     "cell_type": "code",
     "collapsed": false,
     "input": [
      "4988+1297"
     ],
     "language": "python",
     "metadata": {},
     "outputs": [
      {
       "metadata": {},
       "output_type": "pyout",
       "prompt_number": 62,
       "text": [
        "6285"
       ]
      }
     ],
     "prompt_number": 62
    },
    {
     "cell_type": "code",
     "collapsed": false,
     "input": [
      "1297/6285"
     ],
     "language": "python",
     "metadata": {},
     "outputs": [
      {
       "metadata": {},
       "output_type": "pyout",
       "prompt_number": 63,
       "text": [
        "0.20636435958631663"
       ]
      }
     ],
     "prompt_number": 63
    },
    {
     "cell_type": "code",
     "collapsed": false,
     "input": [
      "def encode(s):\n",
      "    if s < 0.0:\n",
      "        return 0\n",
      "    else:\n",
      "        return 1\n",
      "\n",
      "gpaDF=data[data.columns[5:]].applymap(encode) #apply above encoding function \n",
      "gpaDF[data.columns[:5]]=data[data.columns[:5]]\n",
      "gpaDF=gpaDF[data.columns]"
     ],
     "language": "python",
     "metadata": {},
     "outputs": [],
     "prompt_number": 21
    },
    {
     "cell_type": "code",
     "collapsed": false,
     "input": [
      "printContingencyTable(gpaDF['Graduated'],gpaDF['PSY320'])"
     ],
     "language": "python",
     "metadata": {},
     "outputs": [
      {
       "metadata": {},
       "output_type": "display_data",
       "png": "[encoded data removed]",
       "text": [
        "<matplotlib.figure.Figure at 0x7faf7e955310>"
       ]
      },
      {
       "output_type": "stream",
       "stream": "stdout",
       "text": [
        "[[   0 6577]\n",
        " [   0 4906]]\n"
       ]
      }
     ],
     "prompt_number": 22
    },
    {
     "cell_type": "code",
     "collapsed": false,
     "input": [],
     "language": "python",
     "metadata": {},
     "outputs": []
    }
   ],
   "metadata": {}
  }
 ]
}